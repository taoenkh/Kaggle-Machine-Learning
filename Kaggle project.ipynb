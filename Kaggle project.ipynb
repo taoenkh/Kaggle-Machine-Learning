{
 "cells": [
  {
   "cell_type": "code",
   "execution_count": 1,
   "metadata": {},
   "outputs": [
    {
     "name": "stderr",
     "output_type": "stream",
     "text": [
      "C:\\Users\\NEW\\Anaconda3\\lib\\site-packages\\sklearn\\cross_validation.py:41: DeprecationWarning: This module was deprecated in version 0.18 in favor of the model_selection module into which all the refactored classes and functions are moved. Also note that the interface of the new CV iterators are different from that of this module. This module will be removed in 0.20.\n",
      "  \"This module will be removed in 0.20.\", DeprecationWarning)\n",
      "C:\\Users\\NEW\\Anaconda3\\lib\\site-packages\\sklearn\\grid_search.py:42: DeprecationWarning: This module was deprecated in version 0.18 in favor of the model_selection module into which all the refactored classes and functions are moved. This module will be removed in 0.20.\n",
      "  DeprecationWarning)\n"
     ]
    }
   ],
   "source": [
    "import numpy as np\n",
    "from sklearn.metrics import roc_auc_score\n",
    "from sklearn.metrics import mean_squared_error\n",
    "from sklearn.grid_search import GridSearchCV \n",
    "from sklearn.preprocessing import PolynomialFeatures\n",
    "from sklearn.linear_model import LinearRegression\n",
    "from sklearn.ensemble import AdaBoostClassifier\n",
    "from sklearn.ensemble import GradientBoostingClassifier\n",
    "from sklearn.tree import DecisionTreeClassifier\n",
    "from sklearn.tree import DecisionTreeRegressor"
   ]
  },
  {
   "cell_type": "code",
   "execution_count": 2,
   "metadata": {},
   "outputs": [],
   "source": [
    "X = np.genfromtxt(\"data/X_train.txt\", delimiter=None)\n",
    "Y = np.genfromtxt(\"data/Y_train.txt\", delimiter=None)\n",
    "xte = np.genfromtxt(\"data/X_test.txt\", delimiter=None)"
   ]
  },
  {
   "cell_type": "code",
   "execution_count": 6,
   "metadata": {},
   "outputs": [],
   "source": [
    "Xtr = X[:190000]\n",
    "Ytr = Y[:190000]\n",
    "Xva = X[190000:]\n",
    "Yva = Y[190000:]"
   ]
  },
  {
   "cell_type": "code",
   "execution_count": 30,
   "metadata": {},
   "outputs": [
    {
     "data": {
      "text/plain": [
       "GradientBoostingClassifier(criterion='friedman_mse', init=None,\n",
       "              learning_rate=0.1, loss='deviance', max_depth=12,\n",
       "              max_features=None, max_leaf_nodes=None,\n",
       "              min_impurity_decrease=0.0, min_impurity_split=None,\n",
       "              min_samples_leaf=5, min_samples_split=12,\n",
       "              min_weight_fraction_leaf=0.0, n_estimators=500,\n",
       "              presort='auto', random_state=None, subsample=1.0, verbose=0,\n",
       "              warm_start=False)"
      ]
     },
     "execution_count": 30,
     "metadata": {},
     "output_type": "execute_result"
    }
   ],
   "source": [
    "#Gradient boost\n",
    "gb=GradientBoostingClassifier(n_estimators=500,max_depth=12,min_samples_split=12, min_samples_leaf=5)\n",
    "gb.fit(Xtr,Ytr)\n",
    "\n"
   ]
  },
  {
   "cell_type": "code",
   "execution_count": 31,
   "metadata": {},
   "outputs": [
    {
     "name": "stdout",
     "output_type": "stream",
     "text": [
      "Trainning auc 0.9666518820824345\n",
      "Validation auc 0.8042912411930684\n"
     ]
    }
   ],
   "source": [
    "Ytr_score = gb.predict_proba(Xtr).T[1]\n",
    "Y_score = gb.predict_proba(Xva).T[1]\n",
    "\n",
    "\n",
    "print(\"Trainning auc\",roc_auc_score(Ytr,Ytr_score))\n",
    "print(\"Validation auc\",roc_auc_score(Yva,Y_score))\n"
   ]
  },
  {
   "cell_type": "code",
   "execution_count": 19,
   "metadata": {},
   "outputs": [
    {
     "name": "stderr",
     "output_type": "stream",
     "text": [
      "C:\\Users\\NEW\\Anaconda3\\lib\\site-packages\\sklearn\\learning_curve.py:22: DeprecationWarning: This module was deprecated in version 0.18 in favor of the model_selection module into which all the functions are moved. This module will be removed in 0.20\n",
      "  DeprecationWarning)\n"
     ]
    }
   ],
   "source": [
    "from sklearn import *\n",
    "x_train, x_validation, y_train, y_validation = model_selection.train_test_split(\n",
    "    X, Y, test_size=0.2, random_state=42)"
   ]
  },
  {
   "cell_type": "code",
   "execution_count": 23,
   "metadata": {},
   "outputs": [],
   "source": [
    "#Random forest\n",
    "from sklearn.ensemble import RandomForestClassifier\n",
    "random_forest_classifier = RandomForestClassifier(\n",
    "n_estimators=1000, min_samples_leaf=4,max_depth= 50,oob_score=True)\n",
    "classf = random_forest_classifier.fit(x_train, y_train)\n",
    "Y_score = classf.predict_proba(x_validation).T[1]\n",
    "Ytr_score = classf.predict_proba(x_train).T[1]\n"
   ]
  },
  {
   "cell_type": "code",
   "execution_count": 22,
   "metadata": {},
   "outputs": [
    {
     "name": "stdout",
     "output_type": "stream",
     "text": [
      "Training AUC: 0.9393463825871311\n",
      "Validation AUC: 0.7863518619892627\n"
     ]
    }
   ],
   "source": [
    "print(\"Training AUC: {}\".format(roc_auc_score(y_train,Ytr_score)))\n",
    "print(\"Validation AUC: {}\".format(roc_auc_score(y_validation,Y_score)))"
   ]
  },
  {
   "cell_type": "code",
   "execution_count": 29,
   "metadata": {},
   "outputs": [
    {
     "name": "stdout",
     "output_type": "stream",
     "text": [
      "Trainning auc 0.9890538423940642\n",
      "Validation auc 0.7939486074636888\n"
     ]
    }
   ],
   "source": [
    "#Ada boost\n",
    "ab = AdaBoostClassifier(base_estimator = DecisionTreeClassifier(max_depth=23,max_features=4,min_samples_split=32), n_estimators=800,learning_rate=0.001)\n",
    "ab.fit(Xtr,Ytr)\n",
    "\n",
    "\n",
    "#这里是 estimator 关系不大，100， 80 都差不多\n",
    "# 10是 0.95 0.768\n",
    "# 50 是 0.98 0.786\n",
    "# Trainning auc 0.9901118657901069  120\n",
    "# Validation auc 0.7886719734892589\n",
    "# 150\n",
    "# 0.001\n",
    "#\n",
    "Y_ptr = ab.predict_proba(Xtr).T[1]\n",
    "Y_pr = ab.predict_proba(Xva).T[1]\n",
    "\n",
    "\n",
    "print(\"Trainning auc\",roc_auc_score(Ytr,Y_ptr))\n",
    "print(\"Validation auc\",roc_auc_score(Yva,Y_pr))"
   ]
  },
  {
   "cell_type": "code",
   "execution_count": 32,
   "metadata": {},
   "outputs": [],
   "source": [
    "from sklearn.ensemble import VotingClassifier"
   ]
  },
  {
   "cell_type": "code",
   "execution_count": 35,
   "metadata": {},
   "outputs": [],
   "source": [
    "blend = VotingClassifier(estimators = [('rf',random_forest_classifier),\n",
    "                                      (\"ab\",ab),\n",
    "                                      (\"gb\",gb)],voting = \"soft\",\n",
    "                        weights = [1,1,2])"
   ]
  },
  {
   "cell_type": "code",
   "execution_count": 36,
   "metadata": {},
   "outputs": [
    {
     "data": {
      "text/plain": [
       "VotingClassifier(estimators=[('rf', RandomForestClassifier(bootstrap=True, class_weight=None, criterion='gini',\n",
       "            max_depth=50, max_features='auto', max_leaf_nodes=None,\n",
       "            min_impurity_decrease=0.0, min_impurity_split=None,\n",
       "            min_samples_leaf=4, min_samples_split=2,\n",
       "            min_weig...      presort='auto', random_state=None, subsample=1.0, verbose=0,\n",
       "              warm_start=False))],\n",
       "         flatten_transform=None, n_jobs=1, voting='soft',\n",
       "         weights=[1, 1, 2])"
      ]
     },
     "execution_count": 36,
     "metadata": {},
     "output_type": "execute_result"
    }
   ],
   "source": [
    "blend.fit(Xtr,Ytr)\n"
   ]
  },
  {
   "cell_type": "code",
   "execution_count": 37,
   "metadata": {},
   "outputs": [
    {
     "name": "stdout",
     "output_type": "stream",
     "text": [
      "Trainning auc 0.9772733380984986\n",
      "Validation auc 0.806222051182898\n"
     ]
    }
   ],
   "source": [
    "Y_ptr = blend.predict_proba(Xtr).T[1]\n",
    "Y_pr = blend.predict_proba(Xva).T[1]\n",
    "\n",
    "print(\"Trainning auc\",roc_auc_score(Ytr,Y_ptr))\n",
    "print(\"Validation auc\",roc_auc_score(Yva,Y_pr))"
   ]
  },
  {
   "cell_type": "code",
   "execution_count": 38,
   "metadata": {},
   "outputs": [
    {
     "name": "stderr",
     "output_type": "stream",
     "text": [
      "C:\\Users\\NEW\\Anaconda3\\lib\\site-packages\\sklearn\\preprocessing\\label.py:151: DeprecationWarning: The truth value of an empty array is ambiguous. Returning False, but in future this will result in an error. Use `array.size > 0` to check that an array is not empty.\n",
      "  if diff:\n"
     ]
    },
    {
     "name": "stdout",
     "output_type": "stream",
     "text": [
      "Trainning auc 0.8863733172036032\n",
      "Validation auc 0.7014814909246463\n"
     ]
    },
    {
     "name": "stderr",
     "output_type": "stream",
     "text": [
      "C:\\Users\\NEW\\Anaconda3\\lib\\site-packages\\sklearn\\preprocessing\\label.py:151: DeprecationWarning: The truth value of an empty array is ambiguous. Returning False, but in future this will result in an error. Use `array.size > 0` to check that an array is not empty.\n",
      "  if diff:\n"
     ]
    }
   ],
   "source": [
    "Y_ptr = blend.predict(Xtr)\n",
    "Y_pr = blend.predict(Xva)\n",
    "\n",
    "print(\"Trainning auc\",roc_auc_score(Ytr,Y_ptr))\n",
    "print(\"Validation auc\",roc_auc_score(Yva,Y_pr))"
   ]
  },
  {
   "cell_type": "code",
   "execution_count": 39,
   "metadata": {},
   "outputs": [],
   "source": [
    "Xte = np.genfromtxt('data/X_test.txt', delimiter=None)\n",
    "Yte = np.vstack((np.arange(Xte.shape[0]), blend.predict_proba(Xte).T[1])).T\n",
    "\n",
    "np.savetxt('Y_submit_blend.txt',Yte,'%d, %.2f',header='ID,Prob1',comments='',delimiter=',')"
   ]
  },
  {
   "cell_type": "markdown",
   "metadata": {},
   "source": [
    "kaggle result AUC:0.799"
   ]
  },
  {
   "cell_type": "code",
   "execution_count": null,
   "metadata": {},
   "outputs": [],
   "source": []
  }
 ],
 "metadata": {
  "kernelspec": {
   "display_name": "Python 3",
   "language": "python",
   "name": "python3"
  },
  "language_info": {
   "codemirror_mode": {
    "name": "ipython",
    "version": 3
   },
   "file_extension": ".py",
   "mimetype": "text/x-python",
   "name": "python",
   "nbconvert_exporter": "python",
   "pygments_lexer": "ipython3",
   "version": "3.6.4"
  }
 },
 "nbformat": 4,
 "nbformat_minor": 2
}
